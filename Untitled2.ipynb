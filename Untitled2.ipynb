{
  "nbformat": 4,
  "nbformat_minor": 0,
  "metadata": {
    "colab": {
      "provenance": [],
      "authorship_tag": "ABX9TyNmr8cidbZHIy2pq/RNNfV5",
      "include_colab_link": true
    },
    "kernelspec": {
      "name": "python3",
      "display_name": "Python 3"
    },
    "language_info": {
      "name": "python"
    }
  },
  "cells": [
    {
      "cell_type": "markdown",
      "metadata": {
        "id": "view-in-github",
        "colab_type": "text"
      },
      "source": [
        "<a href=\"https://colab.research.google.com/github/soumalyapal03/STOCK-MARKET-PREDICTION-USING-LSTM/blob/main/Untitled2.ipynb\" target=\"_parent\"><img src=\"https://colab.research.google.com/assets/colab-badge.svg\" alt=\"Open In Colab\"/></a>"
      ]
    },
    {
      "cell_type": "code",
      "execution_count": 1,
      "metadata": {
        "id": "J3DcewWU_T6m"
      },
      "outputs": [],
      "source": [
        "import numpy as np\n",
        "import pandas as pd\n",
        "import matplotlib.pyplot as plt\n",
        "import yfinance as yf"
      ]
    },
    {
      "cell_type": "code",
      "source": [
        "start = '2012-01-01'\n",
        "end = '2022-12-21'\n",
        "stock = 'GOOG'\n",
        "\n",
        "data = yf.download(stock, start, end)"
      ],
      "metadata": {
        "colab": {
          "base_uri": "https://localhost:8080/"
        },
        "id": "CoCv8-xTBvmg",
        "outputId": "9573ebb3-f0a0-4e17-be8d-a739608b2492"
      },
      "execution_count": 2,
      "outputs": [
        {
          "output_type": "stream",
          "name": "stderr",
          "text": [
            "\r[*********************100%%**********************]  1 of 1 completed\n"
          ]
        }
      ]
    },
    {
      "cell_type": "code",
      "source": [
        "data.reset_index(inplace=True)"
      ],
      "metadata": {
        "id": "CX8q3t-5B3y4"
      },
      "execution_count": 3,
      "outputs": []
    },
    {
      "cell_type": "code",
      "source": [
        "data"
      ],
      "metadata": {
        "colab": {
          "base_uri": "https://localhost:8080/",
          "height": 423
        },
        "id": "TcZRwnC7B9WL",
        "outputId": "e378557c-b9ee-4985-ab51-5390cbf67fa9"
      },
      "execution_count": 4,
      "outputs": [
        {
          "output_type": "execute_result",
          "data": {
            "text/plain": [
              "           Date       Open       High        Low      Close  Adj Close  \\\n",
              "0    2014-03-27  28.322241  28.322241  27.570307  27.846546  27.814894   \n",
              "1    2014-03-28  27.983171  28.243956  27.857019  27.922838  27.891100   \n",
              "2    2014-03-31  28.266893  28.272379  27.770258  27.772251  27.740683   \n",
              "3    2014-04-01  27.859013  28.344681  27.859013  28.280355  28.248211   \n",
              "4    2014-04-02  29.917362  30.158699  28.032537  28.272379  28.240242   \n",
              "...         ...        ...        ...        ...        ...        ...   \n",
              "2196 2022-12-14  95.540001  97.220001  93.940002  95.309998  95.201660   \n",
              "2197 2022-12-15  93.540001  94.029999  90.430000  91.199997  91.096336   \n",
              "2198 2022-12-16  91.199997  91.750000  90.010002  90.860001  90.756721   \n",
              "2199 2022-12-19  90.879997  91.199997  88.925003  89.150002  89.048668   \n",
              "2200 2022-12-20  88.730003  89.779999  88.040001  89.629997  89.528122   \n",
              "\n",
              "        Volume  \n",
              "0       262719  \n",
              "1       824257  \n",
              "2       216593  \n",
              "3       158434  \n",
              "4      2942055  \n",
              "...        ...  \n",
              "2196  26452900  \n",
              "2197  28298800  \n",
              "2198  48485500  \n",
              "2199  23020500  \n",
              "2200  21976800  \n",
              "\n",
              "[2201 rows x 7 columns]"
            ],
            "text/html": [
              "\n",
              "  <div id=\"df-8b2772cd-70b7-49a9-9107-14bac0cb8f6c\" class=\"colab-df-container\">\n",
              "    <div>\n",
              "<style scoped>\n",
              "    .dataframe tbody tr th:only-of-type {\n",
              "        vertical-align: middle;\n",
              "    }\n",
              "\n",
              "    .dataframe tbody tr th {\n",
              "        vertical-align: top;\n",
              "    }\n",
              "\n",
              "    .dataframe thead th {\n",
              "        text-align: right;\n",
              "    }\n",
              "</style>\n",
              "<table border=\"1\" class=\"dataframe\">\n",
              "  <thead>\n",
              "    <tr style=\"text-align: right;\">\n",
              "      <th></th>\n",
              "      <th>Date</th>\n",
              "      <th>Open</th>\n",
              "      <th>High</th>\n",
              "      <th>Low</th>\n",
              "      <th>Close</th>\n",
              "      <th>Adj Close</th>\n",
              "      <th>Volume</th>\n",
              "    </tr>\n",
              "  </thead>\n",
              "  <tbody>\n",
              "    <tr>\n",
              "      <th>0</th>\n",
              "      <td>2014-03-27</td>\n",
              "      <td>28.322241</td>\n",
              "      <td>28.322241</td>\n",
              "      <td>27.570307</td>\n",
              "      <td>27.846546</td>\n",
              "      <td>27.814894</td>\n",
              "      <td>262719</td>\n",
              "    </tr>\n",
              "    <tr>\n",
              "      <th>1</th>\n",
              "      <td>2014-03-28</td>\n",
              "      <td>27.983171</td>\n",
              "      <td>28.243956</td>\n",
              "      <td>27.857019</td>\n",
              "      <td>27.922838</td>\n",
              "      <td>27.891100</td>\n",
              "      <td>824257</td>\n",
              "    </tr>\n",
              "    <tr>\n",
              "      <th>2</th>\n",
              "      <td>2014-03-31</td>\n",
              "      <td>28.266893</td>\n",
              "      <td>28.272379</td>\n",
              "      <td>27.770258</td>\n",
              "      <td>27.772251</td>\n",
              "      <td>27.740683</td>\n",
              "      <td>216593</td>\n",
              "    </tr>\n",
              "    <tr>\n",
              "      <th>3</th>\n",
              "      <td>2014-04-01</td>\n",
              "      <td>27.859013</td>\n",
              "      <td>28.344681</td>\n",
              "      <td>27.859013</td>\n",
              "      <td>28.280355</td>\n",
              "      <td>28.248211</td>\n",
              "      <td>158434</td>\n",
              "    </tr>\n",
              "    <tr>\n",
              "      <th>4</th>\n",
              "      <td>2014-04-02</td>\n",
              "      <td>29.917362</td>\n",
              "      <td>30.158699</td>\n",
              "      <td>28.032537</td>\n",
              "      <td>28.272379</td>\n",
              "      <td>28.240242</td>\n",
              "      <td>2942055</td>\n",
              "    </tr>\n",
              "    <tr>\n",
              "      <th>...</th>\n",
              "      <td>...</td>\n",
              "      <td>...</td>\n",
              "      <td>...</td>\n",
              "      <td>...</td>\n",
              "      <td>...</td>\n",
              "      <td>...</td>\n",
              "      <td>...</td>\n",
              "    </tr>\n",
              "    <tr>\n",
              "      <th>2196</th>\n",
              "      <td>2022-12-14</td>\n",
              "      <td>95.540001</td>\n",
              "      <td>97.220001</td>\n",
              "      <td>93.940002</td>\n",
              "      <td>95.309998</td>\n",
              "      <td>95.201660</td>\n",
              "      <td>26452900</td>\n",
              "    </tr>\n",
              "    <tr>\n",
              "      <th>2197</th>\n",
              "      <td>2022-12-15</td>\n",
              "      <td>93.540001</td>\n",
              "      <td>94.029999</td>\n",
              "      <td>90.430000</td>\n",
              "      <td>91.199997</td>\n",
              "      <td>91.096336</td>\n",
              "      <td>28298800</td>\n",
              "    </tr>\n",
              "    <tr>\n",
              "      <th>2198</th>\n",
              "      <td>2022-12-16</td>\n",
              "      <td>91.199997</td>\n",
              "      <td>91.750000</td>\n",
              "      <td>90.010002</td>\n",
              "      <td>90.860001</td>\n",
              "      <td>90.756721</td>\n",
              "      <td>48485500</td>\n",
              "    </tr>\n",
              "    <tr>\n",
              "      <th>2199</th>\n",
              "      <td>2022-12-19</td>\n",
              "      <td>90.879997</td>\n",
              "      <td>91.199997</td>\n",
              "      <td>88.925003</td>\n",
              "      <td>89.150002</td>\n",
              "      <td>89.048668</td>\n",
              "      <td>23020500</td>\n",
              "    </tr>\n",
              "    <tr>\n",
              "      <th>2200</th>\n",
              "      <td>2022-12-20</td>\n",
              "      <td>88.730003</td>\n",
              "      <td>89.779999</td>\n",
              "      <td>88.040001</td>\n",
              "      <td>89.629997</td>\n",
              "      <td>89.528122</td>\n",
              "      <td>21976800</td>\n",
              "    </tr>\n",
              "  </tbody>\n",
              "</table>\n",
              "<p>2201 rows × 7 columns</p>\n",
              "</div>\n",
              "    <div class=\"colab-df-buttons\">\n",
              "\n",
              "  <div class=\"colab-df-container\">\n",
              "    <button class=\"colab-df-convert\" onclick=\"convertToInteractive('df-8b2772cd-70b7-49a9-9107-14bac0cb8f6c')\"\n",
              "            title=\"Convert this dataframe to an interactive table.\"\n",
              "            style=\"display:none;\">\n",
              "\n",
              "  <svg xmlns=\"http://www.w3.org/2000/svg\" height=\"24px\" viewBox=\"0 -960 960 960\">\n",
              "    <path d=\"M120-120v-720h720v720H120Zm60-500h600v-160H180v160Zm220 220h160v-160H400v160Zm0 220h160v-160H400v160ZM180-400h160v-160H180v160Zm440 0h160v-160H620v160ZM180-180h160v-160H180v160Zm440 0h160v-160H620v160Z\"/>\n",
              "  </svg>\n",
              "    </button>\n",
              "\n",
              "  <style>\n",
              "    .colab-df-container {\n",
              "      display:flex;\n",
              "      gap: 12px;\n",
              "    }\n",
              "\n",
              "    .colab-df-convert {\n",
              "      background-color: #E8F0FE;\n",
              "      border: none;\n",
              "      border-radius: 50%;\n",
              "      cursor: pointer;\n",
              "      display: none;\n",
              "      fill: #1967D2;\n",
              "      height: 32px;\n",
              "      padding: 0 0 0 0;\n",
              "      width: 32px;\n",
              "    }\n",
              "\n",
              "    .colab-df-convert:hover {\n",
              "      background-color: #E2EBFA;\n",
              "      box-shadow: 0px 1px 2px rgba(60, 64, 67, 0.3), 0px 1px 3px 1px rgba(60, 64, 67, 0.15);\n",
              "      fill: #174EA6;\n",
              "    }\n",
              "\n",
              "    .colab-df-buttons div {\n",
              "      margin-bottom: 4px;\n",
              "    }\n",
              "\n",
              "    [theme=dark] .colab-df-convert {\n",
              "      background-color: #3B4455;\n",
              "      fill: #D2E3FC;\n",
              "    }\n",
              "\n",
              "    [theme=dark] .colab-df-convert:hover {\n",
              "      background-color: #434B5C;\n",
              "      box-shadow: 0px 1px 3px 1px rgba(0, 0, 0, 0.15);\n",
              "      filter: drop-shadow(0px 1px 2px rgba(0, 0, 0, 0.3));\n",
              "      fill: #FFFFFF;\n",
              "    }\n",
              "  </style>\n",
              "\n",
              "    <script>\n",
              "      const buttonEl =\n",
              "        document.querySelector('#df-8b2772cd-70b7-49a9-9107-14bac0cb8f6c button.colab-df-convert');\n",
              "      buttonEl.style.display =\n",
              "        google.colab.kernel.accessAllowed ? 'block' : 'none';\n",
              "\n",
              "      async function convertToInteractive(key) {\n",
              "        const element = document.querySelector('#df-8b2772cd-70b7-49a9-9107-14bac0cb8f6c');\n",
              "        const dataTable =\n",
              "          await google.colab.kernel.invokeFunction('convertToInteractive',\n",
              "                                                    [key], {});\n",
              "        if (!dataTable) return;\n",
              "\n",
              "        const docLinkHtml = 'Like what you see? Visit the ' +\n",
              "          '<a target=\"_blank\" href=https://colab.research.google.com/notebooks/data_table.ipynb>data table notebook</a>'\n",
              "          + ' to learn more about interactive tables.';\n",
              "        element.innerHTML = '';\n",
              "        dataTable['output_type'] = 'display_data';\n",
              "        await google.colab.output.renderOutput(dataTable, element);\n",
              "        const docLink = document.createElement('div');\n",
              "        docLink.innerHTML = docLinkHtml;\n",
              "        element.appendChild(docLink);\n",
              "      }\n",
              "    </script>\n",
              "  </div>\n",
              "\n",
              "\n",
              "<div id=\"df-f0d78414-e31c-4b0b-bc71-eacddb71138b\">\n",
              "  <button class=\"colab-df-quickchart\" onclick=\"quickchart('df-f0d78414-e31c-4b0b-bc71-eacddb71138b')\"\n",
              "            title=\"Suggest charts\"\n",
              "            style=\"display:none;\">\n",
              "\n",
              "<svg xmlns=\"http://www.w3.org/2000/svg\" height=\"24px\"viewBox=\"0 0 24 24\"\n",
              "     width=\"24px\">\n",
              "    <g>\n",
              "        <path d=\"M19 3H5c-1.1 0-2 .9-2 2v14c0 1.1.9 2 2 2h14c1.1 0 2-.9 2-2V5c0-1.1-.9-2-2-2zM9 17H7v-7h2v7zm4 0h-2V7h2v10zm4 0h-2v-4h2v4z\"/>\n",
              "    </g>\n",
              "</svg>\n",
              "  </button>\n",
              "\n",
              "<style>\n",
              "  .colab-df-quickchart {\n",
              "      --bg-color: #E8F0FE;\n",
              "      --fill-color: #1967D2;\n",
              "      --hover-bg-color: #E2EBFA;\n",
              "      --hover-fill-color: #174EA6;\n",
              "      --disabled-fill-color: #AAA;\n",
              "      --disabled-bg-color: #DDD;\n",
              "  }\n",
              "\n",
              "  [theme=dark] .colab-df-quickchart {\n",
              "      --bg-color: #3B4455;\n",
              "      --fill-color: #D2E3FC;\n",
              "      --hover-bg-color: #434B5C;\n",
              "      --hover-fill-color: #FFFFFF;\n",
              "      --disabled-bg-color: #3B4455;\n",
              "      --disabled-fill-color: #666;\n",
              "  }\n",
              "\n",
              "  .colab-df-quickchart {\n",
              "    background-color: var(--bg-color);\n",
              "    border: none;\n",
              "    border-radius: 50%;\n",
              "    cursor: pointer;\n",
              "    display: none;\n",
              "    fill: var(--fill-color);\n",
              "    height: 32px;\n",
              "    padding: 0;\n",
              "    width: 32px;\n",
              "  }\n",
              "\n",
              "  .colab-df-quickchart:hover {\n",
              "    background-color: var(--hover-bg-color);\n",
              "    box-shadow: 0 1px 2px rgba(60, 64, 67, 0.3), 0 1px 3px 1px rgba(60, 64, 67, 0.15);\n",
              "    fill: var(--button-hover-fill-color);\n",
              "  }\n",
              "\n",
              "  .colab-df-quickchart-complete:disabled,\n",
              "  .colab-df-quickchart-complete:disabled:hover {\n",
              "    background-color: var(--disabled-bg-color);\n",
              "    fill: var(--disabled-fill-color);\n",
              "    box-shadow: none;\n",
              "  }\n",
              "\n",
              "  .colab-df-spinner {\n",
              "    border: 2px solid var(--fill-color);\n",
              "    border-color: transparent;\n",
              "    border-bottom-color: var(--fill-color);\n",
              "    animation:\n",
              "      spin 1s steps(1) infinite;\n",
              "  }\n",
              "\n",
              "  @keyframes spin {\n",
              "    0% {\n",
              "      border-color: transparent;\n",
              "      border-bottom-color: var(--fill-color);\n",
              "      border-left-color: var(--fill-color);\n",
              "    }\n",
              "    20% {\n",
              "      border-color: transparent;\n",
              "      border-left-color: var(--fill-color);\n",
              "      border-top-color: var(--fill-color);\n",
              "    }\n",
              "    30% {\n",
              "      border-color: transparent;\n",
              "      border-left-color: var(--fill-color);\n",
              "      border-top-color: var(--fill-color);\n",
              "      border-right-color: var(--fill-color);\n",
              "    }\n",
              "    40% {\n",
              "      border-color: transparent;\n",
              "      border-right-color: var(--fill-color);\n",
              "      border-top-color: var(--fill-color);\n",
              "    }\n",
              "    60% {\n",
              "      border-color: transparent;\n",
              "      border-right-color: var(--fill-color);\n",
              "    }\n",
              "    80% {\n",
              "      border-color: transparent;\n",
              "      border-right-color: var(--fill-color);\n",
              "      border-bottom-color: var(--fill-color);\n",
              "    }\n",
              "    90% {\n",
              "      border-color: transparent;\n",
              "      border-bottom-color: var(--fill-color);\n",
              "    }\n",
              "  }\n",
              "</style>\n",
              "\n",
              "  <script>\n",
              "    async function quickchart(key) {\n",
              "      const quickchartButtonEl =\n",
              "        document.querySelector('#' + key + ' button');\n",
              "      quickchartButtonEl.disabled = true;  // To prevent multiple clicks.\n",
              "      quickchartButtonEl.classList.add('colab-df-spinner');\n",
              "      try {\n",
              "        const charts = await google.colab.kernel.invokeFunction(\n",
              "            'suggestCharts', [key], {});\n",
              "      } catch (error) {\n",
              "        console.error('Error during call to suggestCharts:', error);\n",
              "      }\n",
              "      quickchartButtonEl.classList.remove('colab-df-spinner');\n",
              "      quickchartButtonEl.classList.add('colab-df-quickchart-complete');\n",
              "    }\n",
              "    (() => {\n",
              "      let quickchartButtonEl =\n",
              "        document.querySelector('#df-f0d78414-e31c-4b0b-bc71-eacddb71138b button');\n",
              "      quickchartButtonEl.style.display =\n",
              "        google.colab.kernel.accessAllowed ? 'block' : 'none';\n",
              "    })();\n",
              "  </script>\n",
              "</div>\n",
              "\n",
              "  <div id=\"id_4ca936f5-5ea5-43ab-8799-f626c80cbae0\">\n",
              "    <style>\n",
              "      .colab-df-generate {\n",
              "        background-color: #E8F0FE;\n",
              "        border: none;\n",
              "        border-radius: 50%;\n",
              "        cursor: pointer;\n",
              "        display: none;\n",
              "        fill: #1967D2;\n",
              "        height: 32px;\n",
              "        padding: 0 0 0 0;\n",
              "        width: 32px;\n",
              "      }\n",
              "\n",
              "      .colab-df-generate:hover {\n",
              "        background-color: #E2EBFA;\n",
              "        box-shadow: 0px 1px 2px rgba(60, 64, 67, 0.3), 0px 1px 3px 1px rgba(60, 64, 67, 0.15);\n",
              "        fill: #174EA6;\n",
              "      }\n",
              "\n",
              "      [theme=dark] .colab-df-generate {\n",
              "        background-color: #3B4455;\n",
              "        fill: #D2E3FC;\n",
              "      }\n",
              "\n",
              "      [theme=dark] .colab-df-generate:hover {\n",
              "        background-color: #434B5C;\n",
              "        box-shadow: 0px 1px 3px 1px rgba(0, 0, 0, 0.15);\n",
              "        filter: drop-shadow(0px 1px 2px rgba(0, 0, 0, 0.3));\n",
              "        fill: #FFFFFF;\n",
              "      }\n",
              "    </style>\n",
              "    <button class=\"colab-df-generate\" onclick=\"generateWithVariable('data')\"\n",
              "            title=\"Generate code using this dataframe.\"\n",
              "            style=\"display:none;\">\n",
              "\n",
              "  <svg xmlns=\"http://www.w3.org/2000/svg\" height=\"24px\"viewBox=\"0 0 24 24\"\n",
              "       width=\"24px\">\n",
              "    <path d=\"M7,19H8.4L18.45,9,17,7.55,7,17.6ZM5,21V16.75L18.45,3.32a2,2,0,0,1,2.83,0l1.4,1.43a1.91,1.91,0,0,1,.58,1.4,1.91,1.91,0,0,1-.58,1.4L9.25,21ZM18.45,9,17,7.55Zm-12,3A5.31,5.31,0,0,0,4.9,8.1,5.31,5.31,0,0,0,1,6.5,5.31,5.31,0,0,0,4.9,4.9,5.31,5.31,0,0,0,6.5,1,5.31,5.31,0,0,0,8.1,4.9,5.31,5.31,0,0,0,12,6.5,5.46,5.46,0,0,0,6.5,12Z\"/>\n",
              "  </svg>\n",
              "    </button>\n",
              "    <script>\n",
              "      (() => {\n",
              "      const buttonEl =\n",
              "        document.querySelector('#id_4ca936f5-5ea5-43ab-8799-f626c80cbae0 button.colab-df-generate');\n",
              "      buttonEl.style.display =\n",
              "        google.colab.kernel.accessAllowed ? 'block' : 'none';\n",
              "\n",
              "      buttonEl.onclick = () => {\n",
              "        google.colab.notebook.generateWithVariable('data');\n",
              "      }\n",
              "      })();\n",
              "    </script>\n",
              "  </div>\n",
              "\n",
              "    </div>\n",
              "  </div>\n"
            ],
            "application/vnd.google.colaboratory.intrinsic+json": {
              "type": "dataframe",
              "variable_name": "data",
              "summary": "{\n  \"name\": \"data\",\n  \"rows\": 2201,\n  \"fields\": [\n    {\n      \"column\": \"Date\",\n      \"properties\": {\n        \"dtype\": \"date\",\n        \"min\": \"2014-03-27 00:00:00\",\n        \"max\": \"2022-12-20 00:00:00\",\n        \"num_unique_values\": 2201,\n        \"samples\": [\n          \"2017-05-02 00:00:00\",\n          \"2016-07-18 00:00:00\",\n          \"2021-03-10 00:00:00\"\n        ],\n        \"semantic_type\": \"\",\n        \"description\": \"\"\n      }\n    },\n    {\n      \"column\": \"Open\",\n      \"properties\": {\n        \"dtype\": \"number\",\n        \"std\": 34.69954945183674,\n        \"min\": 24.664783477783203,\n        \"max\": 151.86349487304688,\n        \"num_unique_values\": 2147,\n        \"samples\": [\n          50.90650177001953,\n          107.44599914550781,\n          50.58150100708008\n        ],\n        \"semantic_type\": \"\",\n        \"description\": \"\"\n      }\n    },\n    {\n      \"column\": \"High\",\n      \"properties\": {\n        \"dtype\": \"number\",\n        \"std\": 35.10918730406569,\n        \"min\": 24.73090171813965,\n        \"max\": 152.10000610351562,\n        \"num_unique_values\": 2173,\n        \"samples\": [\n          27.033000946044922,\n          91.61849975585938,\n          115.69564819335938\n        ],\n        \"semantic_type\": \"\",\n        \"description\": \"\"\n      }\n    },\n    {\n      \"column\": \"Low\",\n      \"properties\": {\n        \"dtype\": \"number\",\n        \"std\": 34.29790250993575,\n        \"min\": 24.31125259399414,\n        \"max\": 149.8874969482422,\n        \"num_unique_values\": 2173,\n        \"samples\": [\n          26.620500564575195,\n          87.75,\n          110.1135025024414\n        ],\n        \"semantic_type\": \"\",\n        \"description\": \"\"\n      }\n    },\n    {\n      \"column\": \"Close\",\n      \"properties\": {\n        \"dtype\": \"number\",\n        \"std\": 34.69445824076027,\n        \"min\": 24.560070037841797,\n        \"max\": 150.70899963378906,\n        \"num_unique_values\": 2177,\n        \"samples\": [\n          26.6924991607666,\n          35.942501068115234,\n          54.897499084472656\n        ],\n        \"semantic_type\": \"\",\n        \"description\": \"\"\n      }\n    },\n    {\n      \"column\": \"Adj Close\",\n      \"properties\": {\n        \"dtype\": \"number\",\n        \"std\": 34.6550223912512,\n        \"min\": 24.532154083251953,\n        \"max\": 150.53768920898438,\n        \"num_unique_values\": 2177,\n        \"samples\": [\n          26.662158966064453,\n          35.90164566040039,\n          54.83509826660156\n        ],\n        \"semantic_type\": \"\",\n        \"description\": \"\"\n      }\n    },\n    {\n      \"column\": \"Volume\",\n      \"properties\": {\n        \"dtype\": \"number\",\n        \"std\": 16296502,\n        \"min\": 158434,\n        \"max\": 223298000,\n        \"num_unique_values\": 2117,\n        \"samples\": [\n          36744000,\n          19554000,\n          32906096\n        ],\n        \"semantic_type\": \"\",\n        \"description\": \"\"\n      }\n    }\n  ]\n}"
            }
          },
          "metadata": {},
          "execution_count": 4
        }
      ]
    },
    {
      "cell_type": "code",
      "source": [
        "ma_100_days = data.Close.rolling(100).mean()"
      ],
      "metadata": {
        "id": "6-EqKa1LCAy2"
      },
      "execution_count": 5,
      "outputs": []
    },
    {
      "cell_type": "code",
      "source": [
        "plt.figure(figsize=(8,6))\n",
        "plt.plot(ma_100_days, 'r')\n",
        "plt.plot(data.Close, 'g')\n",
        "plt.show()"
      ],
      "metadata": {
        "colab": {
          "base_uri": "https://localhost:8080/",
          "height": 522
        },
        "id": "krBlZNK7CDhn",
        "outputId": "44b88574-bc8c-40b8-ede2-9764f715c5e8"
      },
      "execution_count": 6,
      "outputs": [
        {
          "output_type": "display_data",
          "data": {
            "text/plain": [
              "<Figure size 800x600 with 1 Axes>"
            ],
            "image/png": "[encoded data removed]"
          },
          "metadata": {}
        }
      ]
    },
    {
      "cell_type": "code",
      "source": [
        "ma_200_days = data.Close.rolling(200).mean()"
      ],
      "metadata": {
        "id": "jyhek5f0CGD_"
      },
      "execution_count": 7,
      "outputs": []
    },
    {
      "cell_type": "code",
      "source": [
        "plt.figure(figsize=(8,6))\n",
        "plt.plot(ma_100_days, 'r')\n",
        "plt.plot(ma_200_days,'b')\n",
        "plt.plot(data.Close,'g')\n",
        "plt.show()"
      ],
      "metadata": {
        "colab": {
          "base_uri": "https://localhost:8080/",
          "height": 522
        },
        "id": "_EhnnfLBCIQt",
        "outputId": "342ffb6a-48d1-466b-e7b1-4e67d8e345be"
      },
      "execution_count": 8,
      "outputs": [
        {
          "output_type": "display_data",
          "data": {
            "text/plain": [
              "<Figure size 800x600 with 1 Axes>"
            ],
            "image/png": "[encoded data removed]"
          },
          "metadata": {}
        }
      ]
    },
    {
      "cell_type": "code",
      "source": [
        "data.dropna(inplace=True)"
      ],
      "metadata": {
        "id": "M9nfKd4lCKPs"
      },
      "execution_count": 9,
      "outputs": []
    },
    {
      "cell_type": "code",
      "source": [
        "data_train = pd.DataFrame(data.Close[0: int(len(data)*0.80)])\n",
        "data_test = pd.DataFrame(data.Close[int(len(data)*0.80): len(data)])"
      ],
      "metadata": {
        "id": "w-0fwyKzCMmw"
      },
      "execution_count": 10,
      "outputs": []
    },
    {
      "cell_type": "code",
      "source": [
        "data_train.shape[0]"
      ],
      "metadata": {
        "colab": {
          "base_uri": "https://localhost:8080/"
        },
        "id": "na6xwOzaCOkH",
        "outputId": "de6cefe8-7087-45de-8564-d5e618389089"
      },
      "execution_count": 11,
      "outputs": [
        {
          "output_type": "execute_result",
          "data": {
            "text/plain": [
              "1760"
            ]
          },
          "metadata": {},
          "execution_count": 11
        }
      ]
    },
    {
      "cell_type": "code",
      "source": [
        "data_test.shape[0]"
      ],
      "metadata": {
        "colab": {
          "base_uri": "https://localhost:8080/"
        },
        "id": "GW2QuF0qCQuc",
        "outputId": "bdc478f0-680f-4e82-d8b5-f095a237c50c"
      },
      "execution_count": 12,
      "outputs": [
        {
          "output_type": "execute_result",
          "data": {
            "text/plain": [
              "441"
            ]
          },
          "metadata": {},
          "execution_count": 12
        }
      ]
    },
    {
      "cell_type": "code",
      "source": [
        "from sklearn.preprocessing import MinMaxScaler\n",
        "scaler = MinMaxScaler(feature_range=(0,1))"
      ],
      "metadata": {
        "id": "Zj_kOgFSCTJj"
      },
      "execution_count": 13,
      "outputs": []
    },
    {
      "cell_type": "code",
      "source": [
        "data_train_scale = scaler.fit_transform(data_train)"
      ],
      "metadata": {
        "id": "Rh4AMhAmCVx7"
      },
      "execution_count": 14,
      "outputs": []
    },
    {
      "cell_type": "code",
      "source": [
        "x = []\n",
        "y = []\n",
        "\n",
        "for i in range(100, data_train_scale.shape[0]):\n",
        "    x.append(data_train_scale[i-100:i])\n",
        "    y.append(data_train_scale[i,0])"
      ],
      "metadata": {
        "id": "CbMFZpDfCX5z"
      },
      "execution_count": 15,
      "outputs": []
    },
    {
      "cell_type": "code",
      "source": [
        "x, y = np.array(x), np.array(y)"
      ],
      "metadata": {
        "id": "v_WbOzA3CZsR"
      },
      "execution_count": 16,
      "outputs": []
    },
    {
      "cell_type": "code",
      "source": [
        "from keras.layers import Dense, Dropout, LSTM\n",
        "from keras.models import Sequential"
      ],
      "metadata": {
        "id": "TCI1pJDkCc_v"
      },
      "execution_count": 17,
      "outputs": []
    },
    {
      "cell_type": "code",
      "source": [
        "model = Sequential()\n",
        "model.add(LSTM(units = 50, activation = 'relu', return_sequences = True,\n",
        "               input_shape = ((x.shape[1],1))))\n",
        "model.add(Dropout(0.2))\n",
        "\n",
        "model.add(LSTM(units = 60, activation='relu', return_sequences = True))\n",
        "model.add(Dropout(0.3))\n",
        "\n",
        "model.add(LSTM(units = 80, activation = 'relu', return_sequences = True))\n",
        "model.add(Dropout(0.4))\n",
        "\n",
        "model.add(LSTM(units = 120, activation = 'relu'))\n",
        "model.add(Dropout(0.5))\n",
        "\n",
        "model.add(Dense(units =1))"
      ],
      "metadata": {
        "id": "p8vSzyVdCfCO"
      },
      "execution_count": 18,
      "outputs": []
    },
    {
      "cell_type": "code",
      "source": [
        "model.compile(optimizer = 'adam', loss = 'mean_squared_error')"
      ],
      "metadata": {
        "id": "kUQLqNrICiix"
      },
      "execution_count": 19,
      "outputs": []
    },
    {
      "cell_type": "code",
      "source": [
        "model.fit(x,y, epochs = 50, batch_size =32, verbose =1)"
      ],
      "metadata": {
        "colab": {
          "base_uri": "https://localhost:8080/"
        },
        "id": "Q3b_Ou42Cld_",
        "outputId": "6145663b-c4ed-4dff-991a-39864c24757d"
      },
      "execution_count": 20,
      "outputs": [
        {
          "output_type": "stream",
          "name": "stdout",
          "text": [
            "Epoch 1/50\n",
            "52/52 [==============================] - 20s 263ms/step - loss: 0.0311\n",
            "Epoch 2/50\n",
            "52/52 [==============================] - 15s 279ms/step - loss: 0.0065\n",
            "Epoch 3/50\n",
            "52/52 [==============================] - 14s 260ms/step - loss: 0.0056\n",
            "Epoch 4/50\n",
            "52/52 [==============================] - 14s 274ms/step - loss: 0.0043\n",
            "Epoch 5/50\n",
            "52/52 [==============================] - 14s 257ms/step - loss: 0.0044\n",
            "Epoch 6/50\n",
            "52/52 [==============================] - 14s 259ms/step - loss: 0.0050\n",
            "Epoch 7/50\n",
            "52/52 [==============================] - 14s 259ms/step - loss: 0.0047\n",
            "Epoch 8/50\n",
            "52/52 [==============================] - 14s 260ms/step - loss: 0.0038\n",
            "Epoch 9/50\n",
            "52/52 [==============================] - 14s 263ms/step - loss: 0.0038\n",
            "Epoch 10/50\n",
            "52/52 [==============================] - 14s 261ms/step - loss: 0.0044\n",
            "Epoch 11/50\n",
            "52/52 [==============================] - 14s 260ms/step - loss: 0.0034\n",
            "Epoch 12/50\n",
            "52/52 [==============================] - 14s 262ms/step - loss: 0.0033\n",
            "Epoch 13/50\n",
            "52/52 [==============================] - 14s 261ms/step - loss: 0.0045\n",
            "Epoch 14/50\n",
            "52/52 [==============================] - 14s 260ms/step - loss: 0.0034\n",
            "Epoch 15/50\n",
            "52/52 [==============================] - 14s 258ms/step - loss: 0.0033\n",
            "Epoch 16/50\n",
            "52/52 [==============================] - 14s 258ms/step - loss: 0.0027\n",
            "Epoch 17/50\n",
            "52/52 [==============================] - 14s 261ms/step - loss: 0.0032\n",
            "Epoch 18/50\n",
            "52/52 [==============================] - 14s 260ms/step - loss: 0.0032\n",
            "Epoch 19/50\n",
            "52/52 [==============================] - 14s 265ms/step - loss: 0.0031\n",
            "Epoch 20/50\n",
            "52/52 [==============================] - 14s 261ms/step - loss: 0.0025\n",
            "Epoch 21/50\n",
            "52/52 [==============================] - 14s 265ms/step - loss: 0.0028\n",
            "Epoch 22/50\n",
            "52/52 [==============================] - 14s 262ms/step - loss: 0.0025\n",
            "Epoch 23/50\n",
            "52/52 [==============================] - 14s 276ms/step - loss: 0.0025\n",
            "Epoch 24/50\n",
            "52/52 [==============================] - 15s 292ms/step - loss: 0.0025\n",
            "Epoch 25/50\n",
            "52/52 [==============================] - 14s 264ms/step - loss: 0.0029\n",
            "Epoch 26/50\n",
            "52/52 [==============================] - 14s 263ms/step - loss: 0.0031\n",
            "Epoch 27/50\n",
            "52/52 [==============================] - 13s 258ms/step - loss: 0.0026\n",
            "Epoch 28/50\n",
            "52/52 [==============================] - 14s 263ms/step - loss: 0.0023\n",
            "Epoch 29/50\n",
            "52/52 [==============================] - 14s 263ms/step - loss: 0.0023\n",
            "Epoch 30/50\n",
            "52/52 [==============================] - 14s 264ms/step - loss: 0.0023\n",
            "Epoch 31/50\n",
            "52/52 [==============================] - 14s 263ms/step - loss: 0.0024\n",
            "Epoch 32/50\n",
            "52/52 [==============================] - 14s 265ms/step - loss: 0.0023\n",
            "Epoch 33/50\n",
            "52/52 [==============================] - 14s 266ms/step - loss: 0.0021\n",
            "Epoch 34/50\n",
            "52/52 [==============================] - 14s 266ms/step - loss: 0.0023\n",
            "Epoch 35/50\n",
            "52/52 [==============================] - 14s 264ms/step - loss: 0.0020\n",
            "Epoch 36/50\n",
            "52/52 [==============================] - 14s 266ms/step - loss: 0.0022\n",
            "Epoch 37/50\n",
            "52/52 [==============================] - 14s 264ms/step - loss: 0.0019\n",
            "Epoch 38/50\n",
            "52/52 [==============================] - 14s 266ms/step - loss: 0.0020\n",
            "Epoch 39/50\n",
            "52/52 [==============================] - 14s 264ms/step - loss: 0.0021\n",
            "Epoch 40/50\n",
            "52/52 [==============================] - 14s 264ms/step - loss: 0.0020\n",
            "Epoch 41/50\n",
            "52/52 [==============================] - 14s 264ms/step - loss: 0.0024\n",
            "Epoch 42/50\n",
            "52/52 [==============================] - 14s 265ms/step - loss: 0.0021\n",
            "Epoch 43/50\n",
            "52/52 [==============================] - 14s 263ms/step - loss: 0.0019\n",
            "Epoch 44/50\n",
            "52/52 [==============================] - 13s 259ms/step - loss: 0.0020\n",
            "Epoch 45/50\n",
            "52/52 [==============================] - 14s 262ms/step - loss: 0.0019\n",
            "Epoch 46/50\n",
            "52/52 [==============================] - 14s 264ms/step - loss: 0.0017\n",
            "Epoch 47/50\n",
            "52/52 [==============================] - 14s 264ms/step - loss: 0.0021\n",
            "Epoch 48/50\n",
            "52/52 [==============================] - 14s 262ms/step - loss: 0.0020\n",
            "Epoch 49/50\n",
            "52/52 [==============================] - 14s 262ms/step - loss: 0.0021\n",
            "Epoch 50/50\n",
            "52/52 [==============================] - 14s 262ms/step - loss: 0.0020\n"
          ]
        },
        {
          "output_type": "execute_result",
          "data": {
            "text/plain": [
              "<keras.src.callbacks.History at 0x7e59dcf5d480>"
            ]
          },
          "metadata": {},
          "execution_count": 20
        }
      ]
    },
    {
      "cell_type": "code",
      "source": [
        "model.summary()"
      ],
      "metadata": {
        "colab": {
          "base_uri": "https://localhost:8080/"
        },
        "id": "hIhs71ycCnx2",
        "outputId": "a71b89e5-5e44-4490-ea40-39bde72d66d9"
      },
      "execution_count": 21,
      "outputs": [
        {
          "output_type": "stream",
          "name": "stdout",
          "text": [
            "Model: \"sequential\"\n",
            "_________________________________________________________________\n",
            " Layer (type)                Output Shape              Param #   \n",
            "=================================================================\n",
            " lstm (LSTM)                 (None, 100, 50)           10400     \n",
            "                                                                 \n",
            " dropout (Dropout)           (None, 100, 50)           0         \n",
            "                                                                 \n",
            " lstm_1 (LSTM)               (None, 100, 60)           26640     \n",
            "                                                                 \n",
            " dropout_1 (Dropout)         (None, 100, 60)           0         \n",
            "                                                                 \n",
            " lstm_2 (LSTM)               (None, 100, 80)           45120     \n",
            "                                                                 \n",
            " dropout_2 (Dropout)         (None, 100, 80)           0         \n",
            "                                                                 \n",
            " lstm_3 (LSTM)               (None, 120)               96480     \n",
            "                                                                 \n",
            " dropout_3 (Dropout)         (None, 120)               0         \n",
            "                                                                 \n",
            " dense (Dense)               (None, 1)                 121       \n",
            "                                                                 \n",
            "=================================================================\n",
            "Total params: 178761 (698.29 KB)\n",
            "Trainable params: 178761 (698.29 KB)\n",
            "Non-trainable params: 0 (0.00 Byte)\n",
            "_________________________________________________________________\n"
          ]
        }
      ]
    },
    {
      "cell_type": "code",
      "source": [
        "pas_100_days = data_train.tail(100)"
      ],
      "metadata": {
        "id": "aEM6uXKqFi1a"
      },
      "execution_count": 22,
      "outputs": []
    },
    {
      "cell_type": "code",
      "source": [
        "data_test = pd.concat([pas_100_days, data_test], ignore_index=True)"
      ],
      "metadata": {
        "id": "KK47ffGNFl_k"
      },
      "execution_count": 23,
      "outputs": []
    },
    {
      "cell_type": "code",
      "source": [
        "data_test_scale  =  scaler.fit_transform(data_test)"
      ],
      "metadata": {
        "id": "SbaltXtjFnlE"
      },
      "execution_count": 25,
      "outputs": []
    },
    {
      "cell_type": "code",
      "source": [
        "x = []\n",
        "y = []\n",
        "\n",
        "for i in range(100, data_test_scale.shape[0]):\n",
        "    x.append(data_test_scale[i-100:i])\n",
        "    y.append(data_test_scale[i,0])\n",
        "x, y = np.array(x), np.array(y)"
      ],
      "metadata": {
        "id": "kfBsaZRiFpYi"
      },
      "execution_count": 26,
      "outputs": []
    },
    {
      "cell_type": "code",
      "source": [
        "y_predict = model.predict(x)"
      ],
      "metadata": {
        "colab": {
          "base_uri": "https://localhost:8080/"
        },
        "id": "0n9PJWvcFv7A",
        "outputId": "470a8f5f-64c5-4532-9e42-19d2c6390fe7"
      },
      "execution_count": 27,
      "outputs": [
        {
          "output_type": "stream",
          "name": "stdout",
          "text": [
            "14/14 [==============================] - 2s 77ms/step\n"
          ]
        }
      ]
    },
    {
      "cell_type": "code",
      "source": [
        "scale =1/scaler.scale_"
      ],
      "metadata": {
        "id": "9m5sO83bFyC7"
      },
      "execution_count": 28,
      "outputs": []
    },
    {
      "cell_type": "code",
      "source": [
        "y_predict = y_predict*scale"
      ],
      "metadata": {
        "id": "8sluzdkfF0vz"
      },
      "execution_count": 29,
      "outputs": []
    },
    {
      "cell_type": "code",
      "source": [
        "y = y*scale"
      ],
      "metadata": {
        "id": "Q8_uOFdQF2Qc"
      },
      "execution_count": 30,
      "outputs": []
    },
    {
      "cell_type": "code",
      "source": [
        "plt.figure(figsize=(10,8))\n",
        "plt.plot(y_predict, 'r', label = 'Predicted Price')\n",
        "plt.plot(y, 'g', label = 'Original Price')\n",
        "plt.xlabel('Time')\n",
        "plt.ylabel('Price')\n",
        "plt.legend()\n",
        "plt.show()"
      ],
      "metadata": {
        "colab": {
          "base_uri": "https://localhost:8080/",
          "height": 696
        },
        "id": "HK7LGLiLF3vU",
        "outputId": "6c0c972c-1bbb-4df9-ac96-036c3963b3f6"
      },
      "execution_count": 31,
      "outputs": [
        {
          "output_type": "display_data",
          "data": {
            "text/plain": [
              "<Figure size 1000x800 with 1 Axes>"
            ],
            "image/png": "[encoded data removed]"
          },
          "metadata": {}
        }
      ]
    },
    {
      "cell_type": "code",
      "source": [
        "model.save('Stock Predictions Model.keras')"
      ],
      "metadata": {
        "id": "Uo7I7G0FF5ca"
      },
      "execution_count": 32,
      "outputs": []
    },
    {
      "cell_type": "code",
      "source": [
        "def smape(y_true, y_pred):\n",
        "    return 100/len(y_true) * np.sum(2 * np.abs(y_pred - y_true) / (np.abs(y_true) + np.abs(y_pred)))\n"
      ],
      "metadata": {
        "id": "oY2dfy4pF8tl"
      },
      "execution_count": 33,
      "outputs": []
    },
    {
      "cell_type": "code",
      "source": [
        "def mape(y_true, y_pred):\n",
        "    return np.mean(np.abs((y_true - y_pred) / y_true)) * 100"
      ],
      "metadata": {
        "id": "mLBmBRFZLpyt"
      },
      "execution_count": 38,
      "outputs": []
    },
    {
      "cell_type": "code",
      "source": [
        "y_test = np.array(data_test)\n",
        "y_pred = np.array(y_pred)"
      ],
      "metadata": {
        "id": "Adbhm0C2LsbM"
      },
      "execution_count": 39,
      "outputs": []
    },
    {
      "cell_type": "code",
      "source": [
        "smape_value = smape(y_test, y_pred)\n",
        "accuracy_smape = 100 - smape_value\n"
      ],
      "metadata": {
        "id": "6iPeQNeRMKs0"
      },
      "execution_count": 40,
      "outputs": []
    },
    {
      "cell_type": "code",
      "source": [
        "mape_value = mape(y_test, y_pred)\n",
        "accuracy_mape = 100 - mape_value"
      ],
      "metadata": {
        "id": "Ra2r7lLrMbxz"
      },
      "execution_count": 41,
      "outputs": []
    },
    {
      "cell_type": "code",
      "source": [
        "print(f'SMAPE: {smape_value:.2f}%')\n",
        "print(f'Accuracy (SMAPE): {accuracy_smape:.2f}%')"
      ],
      "metadata": {
        "colab": {
          "base_uri": "https://localhost:8080/"
        },
        "id": "qdO7qTfqMd1O",
        "outputId": "52a81f63-69ef-4e2a-f684-b4b2604a2a2e"
      },
      "execution_count": 42,
      "outputs": [
        {
          "output_type": "stream",
          "name": "stdout",
          "text": [
            "SMAPE: 164.84%\n",
            "Accuracy (SMAPE): -64.84%\n"
          ]
        }
      ]
    },
    {
      "cell_type": "code",
      "source": [
        "print(f'MAPE: {mape_value:.2f}%')\n",
        "print(f'Accuracy (MAPE): {accuracy_mape:.2f}%')"
      ],
      "metadata": {
        "colab": {
          "base_uri": "https://localhost:8080/"
        },
        "id": "qC4w3C6RMfeX",
        "outputId": "28413002-173d-4b8d-eda7-f8f22d04f9cd"
      },
      "execution_count": 43,
      "outputs": [
        {
          "output_type": "stream",
          "name": "stdout",
          "text": [
            "MAPE: 90.36%\n",
            "Accuracy (MAPE): 9.64%\n"
          ]
        }
      ]
    },
    {
      "cell_type": "code",
      "source": [
        "### MEAN ABSOLUTE PERCENTAGE ERROR & SYMMETRIC MEAN ABSOLUTE PERCENTAGE ERROR"
      ],
      "metadata": {
        "id": "wuh8jVVeMiZ0"
      },
      "execution_count": 44,
      "outputs": []
    },
    {
      "cell_type": "code",
      "source": [
        "###comapre with Random Forest"
      ],
      "metadata": {
        "id": "gxwmQi22MtTD"
      },
      "execution_count": 45,
      "outputs": []
    },
    {
      "cell_type": "code",
      "source": [
        "from sklearn.ensemble import RandomForestRegressor"
      ],
      "metadata": {
        "id": "hZfk_J-8Nha1"
      },
      "execution_count": 46,
      "outputs": []
    },
    {
      "cell_type": "code",
      "source": [],
      "metadata": {
        "id": "ay7GJ1-FNnXa"
      },
      "execution_count": null,
      "outputs": []
    }
  ]
}